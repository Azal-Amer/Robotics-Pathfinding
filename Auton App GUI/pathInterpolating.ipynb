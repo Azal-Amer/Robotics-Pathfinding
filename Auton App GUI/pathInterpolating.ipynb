{
 "cells": [
  {
   "cell_type": "markdown",
   "metadata": {},
   "source": [
    "# Objectives\n",
    "- Describe a driving path using a belzier\n",
    "    - I need to be able to randomly generate belzier curves\n",
    "    - I can use the nature of belzier curves being envelopes of non-discrete lines to my advantedge. \n",
    "    - Instead of getting the envelope, I can work backwards to just take the distance formula at each point\n",
    "- Interpolate the equation of that belzier\n",
    "- Export the interpolated lines into a graph\n",
    "<img src=\"belzier_formula.jpg\" />"
   ]
  },
  {
   "cell_type": "code",
   "execution_count": 679,
   "metadata": {},
   "outputs": [],
   "source": [
    "import scipy.special\n",
    "import random\n",
    "scipy.special.binom(4, 2)\n",
    "# Make a list with length n, with random points in the range [0,10]\n",
    "import numpy as np\n",
    "size = random.randint(1, 10)\n",
    "pointList = np.random.rand(size,2)*10\n",
    "# t goes up to 1\n",
    "interp = .01\n",
    "def belzierPoint(pointList,t):\n",
    "    x_i = 0\n",
    "    y_i = 0\n",
    "    n = len(pointList)\n",
    "    # So then loop through the interpolate t from 0 to 1 by .1\n",
    "    for i, point in enumerate(pointList):\n",
    "        x_i += scipy.special.binom(n,i)*((1-t)**(n-i))*t**i*point[0]\n",
    "        y_i += scipy.special.binom(n,i)*((1-t)**(n-i))*t**i*point[1]\n",
    "    return x_i,y_i\n",
    "\n",
    "def belzier(pointList, t = None):\n",
    "    x,y = [],[]\n",
    "    if t == None:\n",
    "        for t in np.arange(0, 1+interp, interp):\n",
    "            x_i,y_i = belzierPoint(pointList,t)\n",
    "            x.append(x_i)\n",
    "            y.append(y_i)\n",
    "    return x,y\n",
    "x,y = belzier(pointList)\n",
    "\n"
   ]
  },
  {
   "cell_type": "code",
   "execution_count": 680,
   "metadata": {},
   "outputs": [],
   "source": [
    "linePoints =[]\n",
    "lines = []\n",
    "numLines = 7\n",
    "lineInterp = 1/numLines\n",
    "for i in np.arange(0, 1+lineInterp, lineInterp):\n",
    "    x_i,y_i = belzierPoint(pointList,i)\n",
    "    linePoints.append([x_i,y_i])\n",
    "for i in range(len(linePoints)):\n",
    "    if(i!=0):\n",
    "        lines.append([linePoints[i-1],linePoints[i]])\n",
    "\n",
    "        \n"
   ]
  },
  {
   "cell_type": "markdown",
   "metadata": {},
   "source": [
    "## Similar Slope Merging"
   ]
  },
  {
   "cell_type": "code",
   "execution_count": 681,
   "metadata": {},
   "outputs": [],
   "source": [
    "for i in range(len(lines)):\n",
    "    if(i!=0 and i<len(lines)-1):\n",
    "        slope1 = (lines[i-1][0][1]-lines[i-1][1][1])/(lines[i-1][0][0]-lines[i-1][1][0])\n",
    "        slope2 = (lines[i][0][1]-lines[i][1][1])/(lines[i][0][0]-lines[i][1][0])\n",
    "        percent_diff=abs(slope1-slope2)/((slope1+slope2)/2)\n",
    "        if(abs(percent_diff)<0.2):\n",
    "            lines[i-1]=[lines[i-1][0],lines[i][1]]\n",
    "            lines.pop(i)\n",
    "            linePoints.pop(i)\n"
   ]
  },
  {
   "cell_type": "code",
   "execution_count": 682,
   "metadata": {},
   "outputs": [
    {
     "data": {
      "text/plain": [
       "<matplotlib.legend.Legend at 0x14e6ed69bb0>"
      ]
     },
     "execution_count": 682,
     "metadata": {},
     "output_type": "execute_result"
    },
    {
     "data": {
      "image/png": "[encoded data removed]",
      "text/plain": [
       "<Figure size 432x288 with 1 Axes>"
      ]
     },
     "metadata": {
      "needs_background": "light"
     },
     "output_type": "display_data"
    }
   ],
   "source": [
    "from matplotlib.widgets import Slider, Button, RadioButtons\n",
    "plt.plot(x,y,label='Belzier Curve',linewidth=10,color= 'lightblue',zorder=1)\n",
    "\n",
    "plt.title(str(size)+' Degree Random Belzier Curve ') \n",
    "x_p,y_p = pointList.T\n",
    "# plt.scatter(x_p,y_p,color = 'r',label = 'Control Points')\n",
    "x_l,y_l = zip(*linePoints)\n",
    "ax = plt.gca()\n",
    "plt.scatter(x_l,y_l,color = 'g',zorder=2)\n",
    "plt.plot(x_l,y_l,color = 'g',label = str(len(lines))+' Secant Lines',zorder=2)\n",
    "\n",
    "for i in range(len(linePoints)):\n",
    "    if i<len(linePoints)-1:\n",
    "        plt.arrow(x_l[i],y_l[i],(x_l[i+1]-x_l[i])/2,(y_l[i+1]-y_l[i])/2,head_width=0.2,head_length=0.2,color='blue',zorder=2)\n",
    "\n",
    "plt.legend()"
   ]
  },
  {
   "cell_type": "code",
   "execution_count": 698,
   "metadata": {},
   "outputs": [
    {
     "name": "stdout",
     "output_type": "stream",
     "text": [
      "3.7356072315369437 1.387821261334017\n",
      "2.1399075330506396 1.0105515896309543\n",
      "1.0918737481127694 1.3037148870319375\n",
      "0.5126647708619528 2.848940187839512\n",
      "0.8356539148490012 -1.069557230183374\n",
      "2.5231168958975174 -0.24301795249789265\n",
      "5.514367134239435 0.7940123388925978\n"
     ]
    }
   ],
   "source": [
    "import math\n",
    "for i in range(len(lines)):\n",
    "    x_dist = lines[i][0][0]-lines[i][1][0]\n",
    "    y_dist = lines[i][0][1]-lines[i][1][1]\n",
    "    distance = math.sqrt(x_dist**2+y_dist**2)\n",
    "    # if i!=0:\n",
    "    #     angle = angle -math.atan2(y_dist,x_dist)\n",
    "    # else:\n",
    "    angle = math.atan2(y_dist,x_dist)\n",
    "    print(distance,angle)"
   ]
  }
 ],
 "metadata": {
  "interpreter": {
   "hash": "03b31e0dbf5ee774e49906e1a4e99cf39d3bc46df0e15af7b9d16b1e9b24f047"
  },
  "kernelspec": {
   "display_name": "Python 3.9.6 64-bit",
   "language": "python",
   "name": "python3"
  },
  "language_info": {
   "codemirror_mode": {
    "name": "ipython",
    "version": 3
   },
   "file_extension": ".py",
   "mimetype": "text/x-python",
   "name": "python",
   "nbconvert_exporter": "python",
   "pygments_lexer": "ipython3",
   "version": "3.9.6"
  },
  "orig_nbformat": 4
 },
 "nbformat": 4,
 "nbformat_minor": 2
}
