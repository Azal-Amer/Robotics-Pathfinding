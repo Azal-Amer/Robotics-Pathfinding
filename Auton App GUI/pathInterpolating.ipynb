{
 "cells": [
  {
   "cell_type": "markdown",
   "metadata": {},
   "source": [
    "# Objectives\n",
    "- Describe a driving path using a belzier\n",
    "    - I need to be able to randomly generate belzier curves\n",
    "    - I can use the nature of belzier curves being envelopes of non-discrete lines to my advantedge. \n",
    "    - Instead of getting the envelope, I can work backwards to just take the distance formula at each point\n",
    "- Interpolate the equation of that belzier\n",
    "- Export the interpolated lines into a graph\n",
    "- Turn the lines into relative movement instruction\n",
    "- Translate the relative movement instruction into code\n"
   ]
  },
  {
   "cell_type": "markdown",
   "metadata": {},
   "source": [
    "## Generating Test cases\n",
    "Implemented the below formula to generate random length belzier curves\n",
    "<img src=\"belzier_formula.jpg\" />"
   ]
  },
  {
   "cell_type": "code",
   "execution_count": 34,
   "metadata": {},
   "outputs": [],
   "source": [
    "import scipy.special\n",
    "import random\n",
    "import math\n",
    "scipy.special.binom(4, 2)\n",
    "# Make a list with length n, with random points in the range [0,10]\n",
    "import numpy as np\n",
    "import matplotlib.pyplot as plt\n",
    "size = random.randint(5, 10)\n",
    "pointList = np.random.rand(size,2)*40\n",
    "# t goes up to 1\n",
    "interp = .01\n",
    "def belzierPoint(pointList,t):\n",
    "    x_i = 0\n",
    "    y_i = 0\n",
    "    n = len(pointList)\n",
    "    # So then loop through the interpolate t from 0 to 1 by .1\n",
    "    for i, point in enumerate(pointList):\n",
    "        x_i += scipy.special.binom(n,i)*((1-t)**(n-i))*t**i*point[0]\n",
    "        y_i += scipy.special.binom(n,i)*((1-t)**(n-i))*t**i*point[1]\n",
    "    return x_i,y_i\n",
    "\n",
    "def belzier(pointList, t = None):\n",
    "    x,y = [],[]\n",
    "    if t == None:\n",
    "        for t in np.arange(0, 1+interp, interp):\n",
    "            x_i,y_i = belzierPoint(pointList,t)\n",
    "            x.append(x_i)\n",
    "            y.append(y_i)\n",
    "    return x,y\n",
    "x,y = belzier(pointList)"
   ]
  },
  {
   "cell_type": "markdown",
   "metadata": {},
   "source": [
    "## Generating line interpolation\n",
    "The density of \"t\" is directly proportional to the amount of changes in the curve's area, so that can be used to implicitly apply the secant lines"
   ]
  },
  {
   "cell_type": "code",
   "execution_count": 35,
   "metadata": {},
   "outputs": [],
   "source": [
    "linePoints =[]\n",
    "lines = []\n",
    "numLines = 10\n",
    "lineInterp = 1/numLines\n",
    "for i in np.arange(0, 1+lineInterp, lineInterp):\n",
    "    x_i,y_i = belzierPoint(pointList,i)\n",
    "    linePoints.append([x_i,y_i])\n",
    "for i in range(len(linePoints)):\n",
    "    if(i!=0):\n",
    "        lines.append([linePoints[i-1],linePoints[i]])\n",
    "\n"
   ]
  },
  {
   "cell_type": "markdown",
   "metadata": {},
   "source": [
    "## Similar Slope Merging\n",
    "Some curves may still end up with two nearly continuous secant lines, so this code merges them if the angle is within 75%.\n",
    "This uses recursion "
   ]
  },
  {
   "cell_type": "code",
   "execution_count": 36,
   "metadata": {},
   "outputs": [],
   "source": [
    "def reduce():\n",
    "    for i in range(len(lines)):\n",
    "        if(i!=0 and i<len(lines)-1):\n",
    "            slope1 = (lines[i-1][0][1]-lines[i-1][1][1])/(lines[i-1][0][0]-lines[i-1][1][0])\n",
    "            slope2 = (lines[i][0][1]-lines[i][1][1])/(lines[i][0][0]-lines[i][1][0])\n",
    "            avg = ((slope1+slope2)/2)\n",
    "            percent_diff=abs(slope1-slope2)/avg\n",
    "            if(abs(percent_diff)<.75):\n",
    "                lines[i-1]=[lines[i-1][0],lines[i][1]]\n",
    "                lines.pop(i)\n",
    "                linePoints.pop(i)\n",
    "                reduce()\n",
    "            length = math.sqrt((lines[i][0][1]-lines[i][1][1])**2+(lines[i][1][0]-lines[i][0][0])**2)\n",
    "            if length < 1:\n",
    "                print(length)\n",
    "                lines[i-1]=[lines[i-1][0],lines[i][1]]\n",
    "                lines.pop(i)\n",
    "                linePoints.pop(i)\n",
    "                reduce()\n",
    "reduce()"
   ]
  },
  {
   "cell_type": "markdown",
   "metadata": {},
   "source": [
    "## Making motion instructions\n",
    "Compiling all the data into step by step instructions\n",
    "\n",
    "The motion information consists of step rotation, step length, and rotation type\n"
   ]
  },
  {
   "cell_type": "code",
   "execution_count": 37,
   "metadata": {},
   "outputs": [],
   "source": [
    "import math\n",
    "distances = []\n",
    "angles= []\n",
    "driveInstruction= []\n",
    "for i in range(len(lines)+1):\n",
    "    rotationType = 'O'\n",
    "    x_dist = lines[i-1][1][0]-lines[i-1][0][0]\n",
    "    y_dist = lines[i-1][1][1]-lines[i-1][0][1]\n",
    "    if i!=0:\n",
    "        distance = math.sqrt(x_dist**2+y_dist**2)        \n",
    "        prevAngle = driveInstruction[-1][1]\n",
    "        angle =  (math.atan2(y_dist,x_dist)*360)/(2*math.pi)\n",
    "        # Subtract out 360 degrees if the angle is greater than 360 degrees\n",
    "        if abs(angle)>360:\n",
    "            angle = angle - 360*((angle)/abs(angle))*int(abs(angle)/360)\n",
    "        if angle<0:\n",
    "            angle = 360+angle\n",
    "        if abs(angle-prevAngle)>30:\n",
    "            rotationType = 'R'\n",
    "        \n",
    "    else:\n",
    "        angle = math.degrees(math.atan2(y_dist,x_dist))\n",
    "        if angle<0:\n",
    "            angle = 360+angle\n",
    "        distance = linePoints[0]\n",
    "    driveInstruction.append([distance,angle,rotationType])\n"
   ]
  },
  {
   "cell_type": "markdown",
   "metadata": {},
   "source": [
    "## Graphing\n",
    "Taking all the data currently calculated, and making it viewable"
   ]
  },
  {
   "cell_type": "markdown",
   "metadata": {},
   "source": [
    "### Checking driving Instructions\n",
    "- This code takes the parsed driving instructions and plots them ontop the curve. This was to double check that the conversion was done properly\n",
    "- Additionally the code dumps the rotation-types points into lists so they can be individually plotted"
   ]
  },
  {
   "cell_type": "code",
   "execution_count": 38,
   "metadata": {},
   "outputs": [],
   "source": [
    "import math\n",
    "extraPoints = []\n",
    "omniPoints = []\n",
    "rotationPoints=[]\n",
    "for i in range(len(driveInstruction)):\n",
    "    if i!=0:\n",
    "        t1 = angl\n",
    "        \n",
    "        angl = math.radians(driveInstruction[i][1])\n",
    "        position[0]+=driveInstruction[i][0]*math.cos(angl)\n",
    "        position[1]+=driveInstruction[i][0]*math.sin(angl)\n",
    "        extraPoints.append([position[0],position[1]])\n",
    "        if driveInstruction[i][2]=='R':\n",
    "            rotationPoints.append([position[0],position[1]])\n",
    "        else:\n",
    "            omniPoints.append([position[0],position[1]])\n",
    "    else:\n",
    "        position = [linePoints[0][0],linePoints[0][1]]\n",
    "        extraPoints.append(driveInstruction[0][0])\n",
    "        angl = math.radians(driveInstruction[0][1])\n",
    "\n",
    "# Theres a omni turn, and a rotation turn"
   ]
  },
  {
   "cell_type": "markdown",
   "metadata": {},
   "source": [
    "### Plotting\n",
    "The below code takes all the calculated data and puts it onto a colorcoded map for readability. This plot represents the analogue for what the GUI will eventually look like"
   ]
  },
  {
   "cell_type": "code",
   "execution_count": 39,
   "metadata": {},
   "outputs": [
    {
     "data": {
      "image/png": "[encoded data removed]",
      "text/plain": [
       "<Figure size 432x288 with 1 Axes>"
      ]
     },
     "metadata": {
      "needs_background": "light"
     },
     "output_type": "display_data"
    }
   ],
   "source": [
    "from matplotlib.widgets import Slider, Button, RadioButtons\n",
    "plt.plot(x,y,label='Input Curve',linewidth=10,color= 'lightblue',zorder=1)\n",
    "\n",
    "plt.title(str(size)+' Degree Random Belzier Curve ') \n",
    "\n",
    "\n",
    "x_l,y_l = zip(*extraPoints)\n",
    "ax = plt.gca()\n",
    "plt.scatter(x_l,y_l,color = 'g',zorder=2)\n",
    "plt.plot(x_l,y_l,color = 'g',label = 'Robot Drive Path',zorder=2)\n",
    "\n",
    "\n",
    "# Creating direction arrows\n",
    "for i in range(len(linePoints)):\n",
    "    if i<len(linePoints)-1:\n",
    "        plt.arrow(x_l[i],y_l[i],(x_l[i+1]-x_l[i])/2,(y_l[i+1]-y_l[i])/2,head_width=0.2,head_length=0.2,color='g',zorder=3)\n",
    "if len(rotationPoints)>0:\n",
    "    x_rotation,y_rotation = zip(*rotationPoints)\n",
    "    plt.scatter(x_rotation,y_rotation,color= 'r',label = 'Rotation Points',zorder = 3)\n",
    "\n",
    "if(len(omniPoints)>0):\n",
    "    x_omni,y_omni = zip(*omniPoints)\n",
    "    plt.scatter(x_omni,y_omni,color= 'b',label = 'Omni Points',zorder = 3)\n",
    "\n",
    "plt.legend()\n",
    "plt.savefig('Driving Path.png',dpi = 100,facecolor='w', edgecolor='w',orientation='landscape',transparent=False, bbox_inches='tight', pad_inches=0.1)\n"
   ]
  },
  {
   "cell_type": "markdown",
   "metadata": {},
   "source": [
    "## Translating movement into Java\n",
    "- Write the driveInstruct list into a basic textfile\n",
    "- Later get that into java\n"
   ]
  },
  {
   "cell_type": "code",
   "execution_count": 40,
   "metadata": {},
   "outputs": [],
   "source": [
    "line = \"A.EndDrive(10,0,0,dPower,0)\"\n",
    "def encDrive(d,speed,time,tab):\n",
    "    tab_string = '\\t'*tab\n",
    "    command =  f\"r.AEncDrive({d},0,{speed},0,{time});\"\n",
    "    return tab_string +command\n",
    "def encTurn(r,speed,time,tab):\n",
    "    tab_string = '\\t'*tab\n",
    "    command = f\"r.gyroTurn({r}-r.imu.getHeading(),{speed},{time});\"\n",
    "    telemetry = tab_string+f\"telemetry.addData(\\\"heading:\\\",r.imu.getHeading());\"+tab_string+\"\\ntelemetry.update();\"\n",
    "    telemetry += f\"\\n {tab_string}telemetry.addData(\\\"turn:\\\",r.gyroTurn({r}-r.imu.getHeading();)\"\n",
    "    return tab_string + command+telemetry\n",
    "tab = 2\n",
    "\n"
   ]
  },
  {
   "cell_type": "code",
   "execution_count": 41,
   "metadata": {},
   "outputs": [],
   "source": [
    "def instructionWrite(tab):\n",
    "    for i,instruction in enumerate(driveInstruction):\n",
    "        if i==0:\n",
    "            secondfile.write(f'\\n\\t\\t// X{instruction[0][0]} Y{instruction[0][1]} R{instruction[1]}-{instruction[2]}\\n')\n",
    "            secondfile.write(encTurn(instruction[1],.5,4000,tab)+'\\n')\n",
    "        else:\n",
    "            # f.write(f'\\nD{instruction[0]} R{instruction[1]}-{instruction[2]}')\n",
    "            secondfile.write(encDrive(instruction[0],.5,4000,tab)+\"\\n\")\n",
    "            secondfile.write(encTurn(instruction[1],.5,4000,tab)+'\\n')\n",
    "    secondfile.write(f'\\t}} \\n}}') "
   ]
  },
  {
   "cell_type": "code",
   "execution_count": 42,
   "metadata": {},
   "outputs": [],
   "source": [
    "# Copy text from basic code.txt to a new file, \n",
    "# open both files\n",
    "with open('basicCode.txt','r') as firstfile, open('drivingInstruction.java','w') as secondfile:\n",
    "      \n",
    "    # read content from first file\n",
    "    for line in firstfile:\n",
    "               \n",
    "             # write content to second file\n",
    "             secondfile.write(line)\n",
    "    instructionWrite(tab)"
   ]
  },
  {
   "cell_type": "markdown",
   "metadata": {},
   "source": []
  }
 ],
 "metadata": {
  "interpreter": {
   "hash": "03b31e0dbf5ee774e49906e1a4e99cf39d3bc46df0e15af7b9d16b1e9b24f047"
  },
  "kernelspec": {
   "display_name": "Python 3.9.6 64-bit",
   "language": "python",
   "name": "python3"
  },
  "language_info": {
   "codemirror_mode": {
    "name": "ipython",
    "version": 3
   },
   "file_extension": ".py",
   "mimetype": "text/x-python",
   "name": "python",
   "nbconvert_exporter": "python",
   "pygments_lexer": "ipython3",
   "version": "3.9.6"
  },
  "orig_nbformat": 4
 },
 "nbformat": 4,
 "nbformat_minor": 2
}
